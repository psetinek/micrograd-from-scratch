{
 "cells": [
  {
   "cell_type": "code",
   "execution_count": 1,
   "metadata": {},
   "outputs": [
    {
     "data": {
      "text/plain": [
       "Value(data=-0.8016614888719534)"
      ]
     },
     "execution_count": 1,
     "metadata": {},
     "output_type": "execute_result"
    }
   ],
   "source": [
    "from micrograd.engine import Value, Neuron, Layer, MLP\n",
    "\n",
    "# define some synthetic data\n",
    "inputs = [\n",
    "    [2, 5, 1],\n",
    "    [3,-2, 1],\n",
    "    [2, 2, .5],\n",
    "    [-1, -1, 1]\n",
    "]\n",
    "\n",
    "y_true = [1, 1, 0, 0]   # labels\n",
    "\n",
    "# define a model\n",
    "neural_net = MLP(3, [4, 4, 1])"
   ]
  },
  {
   "cell_type": "code",
   "execution_count": 3,
   "metadata": {},
   "outputs": [
    {
     "data": {
      "text/plain": [
       "41"
      ]
     },
     "execution_count": 3,
     "metadata": {},
     "output_type": "execute_result"
    }
   ],
   "source": [
    "len(n.parameters())"
   ]
  },
  {
   "cell_type": "code",
   "execution_count": null,
   "metadata": {},
   "outputs": [],
   "source": [
    "loss = sum((yout - ygt)**2 for y)"
   ]
  }
 ],
 "metadata": {
  "kernelspec": {
   "display_name": "dsml",
   "language": "python",
   "name": "python3"
  },
  "language_info": {
   "codemirror_mode": {
    "name": "ipython",
    "version": 3
   },
   "file_extension": ".py",
   "mimetype": "text/x-python",
   "name": "python",
   "nbconvert_exporter": "python",
   "pygments_lexer": "ipython3",
   "version": "3.10.6"
  },
  "orig_nbformat": 4,
  "vscode": {
   "interpreter": {
    "hash": "0a7f9549209e2246aa0bea6319b202d926c63c2853f02f4961ccd2f1204b6847"
   }
  }
 },
 "nbformat": 4,
 "nbformat_minor": 2
}
